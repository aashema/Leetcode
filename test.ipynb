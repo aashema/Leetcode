{
 "cells": [
  {
   "cell_type": "code",
   "execution_count": 1,
   "metadata": {},
   "outputs": [
    {
     "name": "stdout",
     "output_type": "stream",
     "text": [
      "9\n"
     ]
    }
   ],
   "source": [
    "def maxSubArraySum(arr,N):\n",
    "    maxsum = arr[0]\n",
    "    sum = 0\n",
    "    for i in range(N) :\n",
    "        sum = sum +arr[i]\n",
    "        maxsum = max(maxsum, sum)\n",
    "        if sum<0:       \n",
    "            sum =0      #assigning sum as 0 to get the fresh count after negative value \n",
    "    return maxsum\n",
    "print(maxSubArraySum([1,2,3,-2,5], 5))"
   ]
  },
  {
   "cell_type": "code",
   "execution_count": 1,
   "metadata": {},
   "outputs": [
    {
     "name": "stdout",
     "output_type": "stream",
     "text": [
      "True\n"
     ]
    }
   ],
   "source": [
    "def JumpGame(arr):\n",
    "    goal = len(arr)- 1  # setting the goal post at the end\n",
    "    for i in range(len(arr)-1,-1,-1):   # reverse array to set new goal post \n",
    "        if i + arr[i] >= goal:\n",
    "            goal = i \n",
    "    return True if goal == 0 else False\n",
    "arr = [2,3,1,1,4]\n",
    "print(JumpGame(arr))\n"
   ]
  },
  {
   "cell_type": "code",
   "execution_count": 2,
   "metadata": {},
   "outputs": [
    {
     "name": "stdout",
     "output_type": "stream",
     "text": [
      "2\n"
     ]
    }
   ],
   "source": [
    "def minJumps(arr):\n",
    "    res= 0 \n",
    "    l = r  = 0 \n",
    "    while r < len(arr) - 1:\n",
    "        farthest =  0 \n",
    "        for i in range(l, r+1):\n",
    "            farthest = max (farthest, i +arr[i])\n",
    "        l = r+1\n",
    "        r = farthest \n",
    "        res+=1\n",
    "    return res\n",
    "arr = [2,3,1,1,4]\n",
    "print(minJumps(arr))"
   ]
  },
  {
   "cell_type": "code",
   "execution_count": 3,
   "metadata": {},
   "outputs": [
    {
     "name": "stdout",
     "output_type": "stream",
     "text": [
      "2\n"
     ]
    }
   ],
   "source": [
    "def jumpgame2(arr, n):\n",
    "    res =0 \n",
    "    l = r = 0 \n",
    "    for i in range(0,n):\n",
    "        r = max(r, i+arr[i])\n",
    "        if i == l:\n",
    "            l = r\n",
    "            res+=1\n",
    "            if r>=n-1:\n",
    "                return res\n",
    "    return -1\n",
    "n=5\n",
    "arr = [2,3,1,1,4]\n",
    "print(jumpgame2(arr,n))"
   ]
  }
 ],
 "metadata": {
  "kernelspec": {
   "display_name": "Python 3",
   "language": "python",
   "name": "python3"
  },
  "language_info": {
   "codemirror_mode": {
    "name": "ipython",
    "version": 3
   },
   "file_extension": ".py",
   "mimetype": "text/x-python",
   "name": "python",
   "nbconvert_exporter": "python",
   "pygments_lexer": "ipython3",
   "version": "3.10.6"
  },
  "orig_nbformat": 4
 },
 "nbformat": 4,
 "nbformat_minor": 2
}
