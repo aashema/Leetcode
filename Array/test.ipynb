{
 "cells": [
  {
   "cell_type": "code",
   "execution_count": 1,
   "metadata": {},
   "outputs": [
    {
     "name": "stdout",
     "output_type": "stream",
     "text": [
      "9\n"
     ]
    }
   ],
   "source": [
    "def maxSubArraySum(arr,N):\n",
    "    maxsum = arr[0]\n",
    "    sum = 0\n",
    "    for i in range(N) :\n",
    "        sum = sum +arr[i]\n",
    "        maxsum = max(maxsum, sum)\n",
    "        if sum<0:\n",
    "            sum =0\n",
    "    return maxsum\n",
    "print(maxSubArraySum([1,2,3,-2,5], 5))"
   ]
  }
 ],
 "metadata": {
  "kernelspec": {
   "display_name": "Python 3",
   "language": "python",
   "name": "python3"
  },
  "language_info": {
   "codemirror_mode": {
    "name": "ipython",
    "version": 3
   },
   "file_extension": ".py",
   "mimetype": "text/x-python",
   "name": "python",
   "nbconvert_exporter": "python",
   "pygments_lexer": "ipython3",
   "version": "3.10.6"
  },
  "orig_nbformat": 4
 },
 "nbformat": 4,
 "nbformat_minor": 2
}
